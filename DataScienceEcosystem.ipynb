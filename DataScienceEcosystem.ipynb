{
 "cells": [
  {
   "metadata": {},
   "cell_type": "markdown",
   "source": "# Data Science Tools and Ecosystem",
   "id": "2a45e8991b17dc43"
  },
  {
   "metadata": {},
   "cell_type": "markdown",
   "source": "In this notebook, Data Science Tools and Ecosystem are summarized.",
   "id": "3ed1bfd4c6e9ba80"
  },
  {
   "metadata": {},
   "cell_type": "markdown",
   "source": [
    "**Objectives**\n",
    " * List of popular data science languages\n",
    " * Popular libraries\n",
    " * Popular tools\n",
    " * Examples of Python expressions"
   ],
   "id": "fcadab65df4d046c"
  },
  {
   "metadata": {},
   "cell_type": "markdown",
   "source": [
    "Some of the popular languages that Data Scientists use are:\n",
    "1. Python\n",
    "2. R\n",
    "3. Julia\n",
    "4. Scala"
   ],
   "id": "49fd62be87eb54de"
  },
  {
   "metadata": {},
   "cell_type": "markdown",
   "source": [
    "Some of the commonly used libraries used by Data Scientists include:\n",
    "1. SciPy\n",
    "2. Pandas\n",
    "3. numpy\n",
    "4. tensorflow\n",
    "5. keras\n",
    "6. bs4"
   ],
   "id": "8d4b3df392d8c2fc"
  },
  {
   "metadata": {},
   "cell_type": "markdown",
   "source": [
    "| Data Science Tools |\n",
    "|--------------------|\n",
    "| JupyterLab |\n",
    "| DataSpell |\n",
    "| Visual Studio Code |\n",
    "| R Studio |"
   ],
   "id": "dc511007a9601c58"
  },
  {
   "metadata": {},
   "cell_type": "markdown",
   "source": "### Below are a few examples of evaluating arithmetic expressions in Python.",
   "id": "5d93de2d20b6418e"
  },
  {
   "metadata": {
    "ExecuteTime": {
     "end_time": "2024-09-27T18:50:45.240776Z",
     "start_time": "2024-09-27T18:50:45.237297Z"
    }
   },
   "cell_type": "code",
   "source": [
    "# This a simple arithmetic expression to mutiply then add integers\n",
    "(3*4)+5"
   ],
   "id": "e106343cad96a530",
   "outputs": [
    {
     "data": {
      "text/plain": [
       "17"
      ]
     },
     "execution_count": 3,
     "metadata": {},
     "output_type": "execute_result"
    }
   ],
   "execution_count": 3
  },
  {
   "metadata": {
    "ExecuteTime": {
     "end_time": "2024-09-27T18:51:47.444423Z",
     "start_time": "2024-09-27T18:51:47.439601Z"
    }
   },
   "cell_type": "code",
   "source": [
    "# This will convert 200 minutes to hours by diving by 60\n",
    "200 / 60"
   ],
   "id": "9e35bda0d4e01a8c",
   "outputs": [
    {
     "data": {
      "text/plain": [
       "3.3333333333333335"
      ]
     },
     "execution_count": 4,
     "metadata": {},
     "output_type": "execute_result"
    }
   ],
   "execution_count": 4
  },
  {
   "metadata": {},
   "cell_type": "markdown",
   "source": [
    "## Author\n",
    "\n",
    "Georgi Naumov"
   ],
   "id": "aa3b891f37c5f88c"
  },
  {
   "metadata": {},
   "cell_type": "code",
   "outputs": [],
   "execution_count": null,
   "source": "",
   "id": "bb18a9022ae3fbcc"
  }
 ],
 "metadata": {
  "kernelspec": {
   "display_name": "Python 3",
   "language": "python",
   "name": "python3"
  },
  "language_info": {
   "codemirror_mode": {
    "name": "ipython",
    "version": 2
   },
   "file_extension": ".py",
   "mimetype": "text/x-python",
   "name": "python",
   "nbconvert_exporter": "python",
   "pygments_lexer": "ipython2",
   "version": "2.7.6"
  }
 },
 "nbformat": 4,
 "nbformat_minor": 5
}
